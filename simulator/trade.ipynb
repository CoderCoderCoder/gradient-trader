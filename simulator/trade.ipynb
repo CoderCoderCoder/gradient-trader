{
 "cells": [
  {
   "cell_type": "markdown",
   "metadata": {},
   "source": [
    "## Coin"
   ]
  },
  {
   "cell_type": "code",
   "execution_count": 1,
   "metadata": {
    "collapsed": false
   },
   "outputs": [],
   "source": [
    "from environment.env import Coin\n",
    "from environment.portfolio import Portfolio"
   ]
  },
  {
   "cell_type": "code",
   "execution_count": 2,
   "metadata": {
    "collapsed": false
   },
   "outputs": [],
   "source": [
    "coin = Coin(\"ethereum\")"
   ]
  },
  {
   "cell_type": "code",
   "execution_count": 3,
   "metadata": {
    "collapsed": false
   },
   "outputs": [
    {
     "name": "stdout",
     "output_type": "stream",
     "text": [
      "Date          2015-08-08 00:00:00\n",
      "Open                         2.79\n",
      "High                          2.8\n",
      "Low                      0.714725\n",
      "Close                    0.753325\n",
      "Volume                    674,188\n",
      "Market Cap            167,911,000\n",
      "Name: 1, dtype: object\n",
      "Date          2015-08-09 00:00:00\n",
      "Open                     0.706136\n",
      "High                      0.87981\n",
      "Low                      0.629191\n",
      "Close                    0.701897\n",
      "Volume                    532,170\n",
      "Market Cap             42,637,600\n",
      "Name: 2, dtype: object\n",
      "Date          2015-08-10 00:00:00\n",
      "Open                     0.713989\n",
      "High                     0.729854\n",
      "Low                      0.636546\n",
      "Close                    0.708448\n",
      "Volume                    405,283\n",
      "Market Cap             43,130,000\n",
      "Name: 3, dtype: object\n"
     ]
    }
   ],
   "source": [
    "print coin.advance()\n",
    "print coin.advance()\n",
    "print coin.advance()"
   ]
  },
  {
   "cell_type": "code",
   "execution_count": 4,
   "metadata": {
    "collapsed": false
   },
   "outputs": [
    {
     "name": "stdout",
     "output_type": "stream",
     "text": [
      "Date          2015-11-18 00:00:00\n",
      "Open                     0.993214\n",
      "High                         1.01\n",
      "Low                      0.940516\n",
      "Close                    0.993319\n",
      "Volume                    681,104\n",
      "Market Cap             74,287,700\n",
      "Name: 103, dtype: object\n"
     ]
    }
   ],
   "source": [
    "print coin.advance_n_step(100)"
   ]
  },
  {
   "cell_type": "code",
   "execution_count": 5,
   "metadata": {
    "collapsed": false
   },
   "outputs": [
    {
     "name": "stdout",
     "output_type": "stream",
     "text": [
      "0.993319\n"
     ]
    }
   ],
   "source": [
    "print coin.getCurrentValue()"
   ]
  },
  {
   "cell_type": "code",
   "execution_count": 6,
   "metadata": {
    "collapsed": false
   },
   "outputs": [
    {
     "name": "stdout",
     "output_type": "stream",
     "text": [
      "0.8902796\n"
     ]
    }
   ],
   "source": [
    "print coin.getCurrentRollingMean()"
   ]
  },
  {
   "cell_type": "code",
   "execution_count": 7,
   "metadata": {
    "collapsed": false
   },
   "outputs": [
    {
     "name": "stdout",
     "output_type": "stream",
     "text": [
      "(1.001529782577484, 0.77902941742239706)\n"
     ]
    }
   ],
   "source": [
    "print coin.getCurrentBollingerBand()"
   ]
  },
  {
   "cell_type": "markdown",
   "metadata": {},
   "source": [
    "## Portfolio"
   ]
  },
  {
   "cell_type": "code",
   "execution_count": 2,
   "metadata": {
    "collapsed": false
   },
   "outputs": [],
   "source": [
    "coin = Coin(\"ethereum\")\n",
    "portfolio = Portfolio(portfolio_cash=1000, coin=coin)"
   ]
  },
  {
   "cell_type": "code",
   "execution_count": 3,
   "metadata": {
    "collapsed": false
   },
   "outputs": [
    {
     "name": "stdout",
     "output_type": "stream",
     "text": [
      "0.00 coins, 1000.00 cash, 1000.00 current value, 0.00 percent returns\n"
     ]
    }
   ],
   "source": [
    "print portfolio.getCurrentHoldings()"
   ]
  },
  {
   "cell_type": "code",
   "execution_count": 4,
   "metadata": {
    "collapsed": false
   },
   "outputs": [
    {
     "name": "stdout",
     "output_type": "stream",
     "text": [
      "100.00 coins, 723.00 cash, 1000.00 current value, 0.00 percent returns\n"
     ]
    }
   ],
   "source": [
    "portfolio.buy(100)\n",
    "print portfolio.getCurrentHoldings()\n",
    "new_state = coin.advance()"
   ]
  },
  {
   "cell_type": "code",
   "execution_count": 5,
   "metadata": {
    "collapsed": false
   },
   "outputs": [
    {
     "name": "stdout",
     "output_type": "stream",
     "text": [
      "10.00 coins, 790.80 cash, 798.33 current value, -20.17 percent returns\n"
     ]
    }
   ],
   "source": [
    "portfolio.sell(90)\n",
    "print portfolio.getCurrentHoldings()\n",
    "new_state = coin.advance()"
   ]
  },
  {
   "cell_type": "markdown",
   "metadata": {},
   "source": [
    "## Naive Model"
   ]
  },
  {
   "cell_type": "markdown",
   "metadata": {},
   "source": [
    "Naive moedl to trade based on bollinger band only"
   ]
  },
  {
   "cell_type": "code",
   "execution_count": 7,
   "metadata": {
    "collapsed": true
   },
   "outputs": [],
   "source": [
    "coin = Coin(\"ethereum\")\n",
    "portfolio = Portfolio(portfolio_cash=1000, coin=coin)"
   ]
  },
  {
   "cell_type": "code",
   "execution_count": 9,
   "metadata": {
    "collapsed": false
   },
   "outputs": [
    {
     "name": "stdout",
     "output_type": "stream",
     "text": [
      "643.41 coins, 50326.00 cash, 238498.65 current value, 23749.87 percent returns\n"
     ]
    }
   ],
   "source": [
    "## if we continue to hold and not sell\n",
    "while new_state is not None:\n",
    "    upper_band, lower_band = coin.getCurrentBollingerBand()\n",
    "    if coin.getCurrentValue() < lower_band:\n",
    "        portfolio.buy(100)\n",
    "    \n",
    "    if coin.getCurrentValue() > upper_band:\n",
    "        portfolio.sell(100)\n",
    "\n",
    "    new_state = coin.advance()\n",
    "\n",
    "print portfolio.getCurrentHoldings()"
   ]
  },
  {
   "cell_type": "code",
   "execution_count": null,
   "metadata": {
    "collapsed": true
   },
   "outputs": [],
   "source": []
  }
 ],
 "metadata": {
  "anaconda-cloud": {},
  "kernelspec": {
   "display_name": "Python [default]",
   "language": "python",
   "name": "python2"
  },
  "language_info": {
   "codemirror_mode": {
    "name": "ipython",
    "version": 2
   },
   "file_extension": ".py",
   "mimetype": "text/x-python",
   "name": "python",
   "nbconvert_exporter": "python",
   "pygments_lexer": "ipython2",
   "version": "2.7.12"
  }
 },
 "nbformat": 4,
 "nbformat_minor": 2
}
